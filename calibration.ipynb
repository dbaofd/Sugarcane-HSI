{
 "cells": [
  {
   "cell_type": "code",
   "execution_count": null,
   "metadata": {},
   "outputs": [],
   "source": [
    "\"\"\"\n",
    "This script is used to calibrate hyperspectral images inside a given subdataset folder.\n",
    "The calibrated images will be saved in another specified folders.\n",
    "\n",
    "Parameters need change:\n",
    "1) dataset_root_path\n",
    "2) calibrated_dataset_root_path\n",
    "\"\"\"\n",
    "from hsi_calibration_utils import dark_calibration, white_calibration, modify_hdr"
   ]
  },
  {
   "cell_type": "code",
   "execution_count": null,
   "metadata": {},
   "outputs": [],
   "source": [
    "dataset_root_path='C:\\imecdata\\sugarcane_12_Aug_2021'# Replace it with yours\n",
    "calibrated_dataset_root_path='E:\\Sugarcane_Dataset_Normalized\\sugarcane_12_Aug_2021_Norm'#Replace it with yours, you\n",
    "# should create the folder \"sugarcane_12_Aug_2021_Norm\" first, then inside also make sure to create subfolders \n",
    "# that are the same as the ones in \"sugarcane_12_Aug_2021\"\n",
    "dir_list = []\n",
    "file_list = []\n",
    "count = 0\n",
    "total_number_of_images=0\n",
    "for (root, dirs, files) in os.walk(dataset_root_path, topdown=True):\n",
    "    if len(dirs) != 0:\n",
    "        dir_list = dirs\n",
    "    if count > 0:\n",
    "        li = []\n",
    "        for i in files:\n",
    "            if i.endswith('.hdr'):\n",
    "                li.append(i)\n",
    "                total_number_of_images+=1\n",
    "        file_list.append(li)\n",
    "    count += 1\n",
    "\n",
    "count = 0\n",
    "for i in range(len(dir_list)):#len(dir_list)\n",
    "    for j in range(len(file_list[i])):#len(file_list[i])\n",
    "        count+=1\n",
    "        print(\"*********************************{}/{}**************************************\".format(count, total_number_of_images))\n",
    "        os.chdir(dataset_root_path)\n",
    "        img_path = dir_list[i] + \"/\" + file_list[i][j]\n",
    "\n",
    "        print(img_path)\n",
    "        normalized_img, img_metadata = dark_calibration(img_path)\n",
    "        #os.chdir('C:\\imec Data\\sugarcane_15_Apr_21_Norm')\n",
    "        os.chdir()\n",
    "        save_path = dir_list[i] + \"/\" + file_list[i][j].replace(\"irradiance\", \"normalized\")\n",
    "        print(save_path)\n",
    "        try:\n",
    "            white_calibration(normalized_img, img_metadata, save_path)\n",
    "        except:\n",
    "            print(\"Index out of array!\")\n",
    "        else:\n",
    "            modify_hdr(save_path)\n"
   ]
  }
 ],
 "metadata": {
  "kernelspec": {
   "display_name": "Python 3",
   "language": "python",
   "name": "python3"
  },
  "language_info": {
   "codemirror_mode": {
    "name": "ipython",
    "version": 3
   },
   "file_extension": ".py",
   "mimetype": "text/x-python",
   "name": "python",
   "nbconvert_exporter": "python",
   "pygments_lexer": "ipython3",
   "version": "3.8.5"
  }
 },
 "nbformat": 4,
 "nbformat_minor": 4
}
